{
 "cells": [
  {
   "cell_type": "code",
   "execution_count": 1,
   "metadata": {
    "code_folding": [
     0
    ]
   },
   "outputs": [],
   "source": [
    "# INPUTS\n",
    "input_d = 11.1"
   ]
  },
  {
   "cell_type": "code",
   "execution_count": 2,
   "metadata": {
    "code_folding": [
     0
    ]
   },
   "outputs": [],
   "source": [
    "# Setup\n",
    "from IPython.display import Markdown, Latex, Math\n",
    "import sympy\n"
   ]
  },
  {
   "cell_type": "code",
   "execution_count": 3,
   "metadata": {
    "code_folding": [
     0
    ]
   },
   "outputs": [],
   "source": [
    "# Symbol setup\n",
    "d = sympy.Symbol('d')\n",
    "\n",
    "# Math formatting. Use Math() for inline math, i.e. equivalent of $math$ for in Latex.\n",
    "d_latex = Math(\"d={}\".format(input_d))"
   ]
  },
  {
   "cell_type": "markdown",
   "metadata": {},
   "source": [
    "## Inputs"
   ]
  },
  {
   "cell_type": "markdown",
   "metadata": {
    "variables": {
     " d_latex ": "$\\displaystyle d=11.1$"
    }
   },
   "source": [
    "Circle diameter:\n",
    "\n",
    "{{ d_latex }}"
   ]
  },
  {
   "cell_type": "markdown",
   "metadata": {},
   "source": [
    "## Area"
   ]
  },
  {
   "cell_type": "code",
   "execution_count": 4,
   "metadata": {},
   "outputs": [],
   "source": [
    "# Area formula\n",
    "area_formula = sympy.sympify(\"pi*(d/2)**2\")\n",
    "\n",
    "# Substitute values without simplifying\n",
    "with sympy.evaluate(False):\n",
    "    area_formula_sub = area_formula.subs(d, input_d)\n",
    "\n",
    "# Compute answer\n",
    "area = area_formula_sub.evalf()\n",
    "\n",
    "# Output the result as an aligned equation.\n",
    "# The asterisk in `\\begin{align*}` tells Latex to not add an equation number on the right hand side.\n",
    "# Note that str.format() uses curly braces for formatting, so any curly braces that are not part\n",
    "# of a string replacement must be doubled. Hence `\\begin{{align*}}` instead of `\\begin{align*}`.\n",
    "area_block = Latex(r\"\"\"\n",
    "\\begin{{align*}}\n",
    "A & = {area_formula} \\\\\n",
    "  & = {area_formula_sub} \\\\\n",
    "  & = {area_value}\n",
    "\\end{{align*}}\n",
    "\"\"\".format(area_formula=sympy.latex(area_formula),\n",
    "           area_formula_sub=sympy.latex(area_formula_sub),\n",
    "           area_value=sympy.latex(area)))"
   ]
  },
  {
   "cell_type": "markdown",
   "metadata": {
    "variables": {
     " area_block ": "\n\\begin{align*}\nA & = \\frac{\\pi d^{2}}{4} \\\\\n  & = \\frac{11.1^{2} \\pi}{4} \\\\\n  & = 96.7689077121996\n\\end{align*}\n",
     " d_latex ": "$\\displaystyle d=11.1$"
    }
   },
   "source": [
    "The area of a circle with diameter {{ d_latex }} is:\n",
    "\n",
    "{{ area_block }}"
   ]
  },
  {
   "cell_type": "markdown",
   "metadata": {},
   "source": [
    "## Circumference"
   ]
  },
  {
   "cell_type": "code",
   "execution_count": 5,
   "metadata": {},
   "outputs": [],
   "source": [
    "# Circumference formula\n",
    "circ_formula = sympy.sympify(\"pi*d\")\n",
    "\n",
    "# Substitute values without simplifying\n",
    "with sympy.evaluate(False):\n",
    "    circ_formula_sub = circ_formula.subs(d, input_d)\n",
    "\n",
    "# Compute answer\n",
    "circ = circ_formula_sub.evalf()\n",
    "\n",
    "# Simple one-line equation. In regular Markdown this can be done with $$ equation $$ syntax. However,\n",
    "# Latex formatting currently cannot be done inline in a Markdown cell because of evaluation order issues when\n",
    "# Latex and Python-markdown Jupyter extensions are used together.\n",
    "circ_formula_latex = Markdown(\"$$ C = \" + sympy.latex(circ_formula) +\n",
    "                              \" = \" + sympy.latex(circ_formula_sub) +\n",
    "                              \" = \" + sympy.latex(circ) + \"$$\")\n"
   ]
  },
  {
   "cell_type": "markdown",
   "metadata": {
    "variables": {
     " circ_formula_latex ": "<p>$$ C = \\pi d = 11.1 \\pi = 34.8716784548467$$</p>\n",
     " d_latex ": "$\\displaystyle d=11.1$"
    }
   },
   "source": [
    "The circumference of a circle with diameter {{ d_latex }} is:\n",
    "\n",
    "{{ circ_formula_latex }}\n"
   ]
  },
  {
   "cell_type": "code",
   "execution_count": null,
   "metadata": {},
   "outputs": [],
   "source": []
  }
 ],
 "metadata": {
  "hide_input": true,
  "kernelspec": {
   "display_name": "Python 3",
   "language": "python",
   "name": "python3"
  },
  "language_info": {
   "codemirror_mode": {
    "name": "ipython",
    "version": 3
   },
   "file_extension": ".py",
   "mimetype": "text/x-python",
   "name": "python",
   "nbconvert_exporter": "python",
   "pygments_lexer": "ipython3",
   "version": "3.7.0"
  }
 },
 "nbformat": 4,
 "nbformat_minor": 2
}
