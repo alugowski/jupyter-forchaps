{
 "cells": [
  {
   "cell_type": "code",
   "execution_count": 1,
   "metadata": {
    "code_folding": [
     0
    ]
   },
   "outputs": [],
   "source": [
    "# Setup\n",
    "from IPython.display import Markdown, Latex, Math\n",
    "\n",
    "import sympy\n",
    "from sympy import pi\n",
    "\n",
    "# Print units using abbreviations: 'm' instead of 'meter'\n",
    "sympy.printing.str.StrPrinter._default_settings['abbrev'] = True"
   ]
  },
  {
   "cell_type": "code",
   "execution_count": 2,
   "metadata": {
    "code_folding": [
     0
    ]
   },
   "outputs": [],
   "source": [
    "# INPUTS\n",
    "from sympy.physics.units import meter, foot, convert_to\n",
    "\n",
    "input_d_value = 11.1\n",
    "input_d_unit = foot\n",
    "input_d_sigfigs = 3\n",
    "\n",
    "# DESIRED UNITS\n",
    "# If the input doesn't match this then a conversion will occur\n",
    "desired_length_unit = meter"
   ]
  },
  {
   "cell_type": "code",
   "execution_count": 3,
   "metadata": {
    "code_folding": [
     0
    ]
   },
   "outputs": [],
   "source": [
    "# Symbol setup and unit conversion\n",
    "input_d = input_d_value * input_d_unit\n",
    "sigfigs = input_d_sigfigs\n",
    "\n",
    "# unit conversion\n",
    "if input_d_unit != desired_length_unit:\n",
    "    converted_d = convert_to(input_d, desired_length_unit).n(input_d_sigfigs)\n",
    "    conversion_latex = Math(\"d={original}={converted}\".format(\n",
    "        original=sympy.latex(input_d.n(input_d_sigfigs)),\n",
    "        converted=sympy.latex(converted_d.n(input_d_sigfigs))))\n",
    "    input_d = converted_d\n",
    "else:\n",
    "    conversion_latex=None\n",
    "\n",
    "d_latex = Math(\"d={}\".format(sympy.latex(input_d.n(input_d_sigfigs))))"
   ]
  },
  {
   "cell_type": "markdown",
   "metadata": {},
   "source": [
    "## Inputs"
   ]
  },
  {
   "cell_type": "markdown",
   "metadata": {
    "variables": {
     " conversion_latex if conversion_latex else d_latex ": "$\\displaystyle d=11.1 ft=3.38 m$"
    }
   },
   "source": [
    "Circle diameter:\n",
    "\n",
    "{{ conversion_latex if conversion_latex else d_latex }}"
   ]
  },
  {
   "cell_type": "markdown",
   "metadata": {},
   "source": [
    "## Area"
   ]
  },
  {
   "cell_type": "code",
   "execution_count": 4,
   "metadata": {},
   "outputs": [],
   "source": [
    "# Area formula by building expression explicitly\n",
    "d = sympy.Symbol('d')\n",
    "area_formula = pi*(d/2)**2\n",
    "\n",
    "# Substitute values without simplifying\n",
    "with sympy.evaluate(False):\n",
    "    area_formula_sub = area_formula.subs(d, input_d)\n",
    "\n",
    "# Compute answer\n",
    "area = area_formula_sub.evalf(sigfigs)\n",
    "\n",
    "# Output the result as an aligned equation.\n",
    "# The asterisk in `\\begin{align*}` tells Latex to not add an equation number on the right hand side.\n",
    "# Note that str.format() uses curly braces for formatting, so any curly braces that are not part\n",
    "# of a string replacement must be doubled. Hence `\\begin{{align*}}` instead of `\\begin{align*}`.\n",
    "area_block = Latex(r\"\"\"\n",
    "\\begin{{align*}}\n",
    "A & = {area_formula} \\\\\n",
    "  & = {area_formula_sub} \\\\\n",
    "  & = {area_value}\n",
    "\\end{{align*}}\n",
    "\"\"\".format(area_formula=sympy.latex(area_formula),\n",
    "           area_formula_sub=sympy.latex(area_formula_sub),\n",
    "           area_value=sympy.latex(area)))"
   ]
  },
  {
   "cell_type": "markdown",
   "metadata": {
    "variables": {
     " area_block ": "\n\\begin{align*}\nA & = \\frac{\\pi d^{2}}{4} \\\\\n  & = \\frac{\\pi \\left(3.38 m\\right)^{2}}{4} \\\\\n  & = 8.99 m^{2}\n\\end{align*}\n",
     " d_latex ": "$\\displaystyle d=3.38 m$"
    }
   },
   "source": [
    "The area of a circle with diameter {{ d_latex }} is:\n",
    "\n",
    "{{ area_block }}"
   ]
  },
  {
   "cell_type": "markdown",
   "metadata": {},
   "source": [
    "## Circumference"
   ]
  },
  {
   "cell_type": "code",
   "execution_count": 5,
   "metadata": {},
   "outputs": [],
   "source": [
    "# circumference formula by using sympify() and displayed all on one line\n",
    "circ_formula = sympy.sympify(\"pi*d\")\n",
    "\n",
    "# Substitute values without simplifying\n",
    "with sympy.evaluate(False):\n",
    "    circ_formula_sub = circ_formula.subs(d, input_d)\n",
    "\n",
    "# Compute answer\n",
    "circ = circ_formula_sub.evalf(sigfigs)\n",
    "\n",
    "# Simple one-line equation. In regular Markdown this can be done with $$ equation $$ syntax. However,\n",
    "# Latex formatting currently cannot be done inline in a Markdown cell because of evaluation order issues when\n",
    "# Latex and Python-markdown Jupyter extensions are used together.\n",
    "circ_formula_latex = Markdown(\"$$ C = \" + sympy.latex(circ_formula) +\n",
    "                              \" = \" + sympy.latex(circ_formula_sub) +\n",
    "                              \" = \" + sympy.latex(circ) + \"$$\")\n"
   ]
  },
  {
   "cell_type": "markdown",
   "metadata": {
    "variables": {
     " circ_formula_latex ": "<p>$$ C = \\pi d = \\pi 3.38 m = 10.6 m$$</p>\n",
     " d_latex ": "$\\displaystyle d=3.38 m$"
    }
   },
   "source": [
    "The circumference of a circle with diameter {{ d_latex }} is:\n",
    "\n",
    "{{ circ_formula_latex }}\n"
   ]
  },
  {
   "cell_type": "code",
   "execution_count": null,
   "metadata": {},
   "outputs": [],
   "source": []
  }
 ],
 "metadata": {
  "hide_input": true,
  "kernelspec": {
   "display_name": "Python 3",
   "language": "python",
   "name": "python3"
  },
  "language_info": {
   "codemirror_mode": {
    "name": "ipython",
    "version": 3
   },
   "file_extension": ".py",
   "mimetype": "text/x-python",
   "name": "python",
   "nbconvert_exporter": "python",
   "pygments_lexer": "ipython3",
   "version": "3.7.0"
  }
 },
 "nbformat": 4,
 "nbformat_minor": 2
}
