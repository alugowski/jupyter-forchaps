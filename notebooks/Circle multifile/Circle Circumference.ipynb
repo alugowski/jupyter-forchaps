{
 "cells": [
  {
   "cell_type": "code",
   "execution_count": 25,
   "metadata": {},
   "outputs": [],
   "source": [
    "%run header.ipynb"
   ]
  },
  {
   "cell_type": "code",
   "execution_count": 26,
   "metadata": {},
   "outputs": [],
   "source": [
    "from sympy import pi\n",
    "from sympy.physics.units import meter, foot"
   ]
  },
  {
   "cell_type": "code",
   "execution_count": 27,
   "metadata": {},
   "outputs": [],
   "source": [
    "# dictionary that holds all values.\n",
    "# if already defined (such as by another notebook) then don't override\n",
    "if \"values\" not in vars():\n",
    "    values={\"d\": 12.1 * meter}\n",
    "\n",
    "Formula.set_global_values(values)"
   ]
  },
  {
   "cell_type": "code",
   "execution_count": 28,
   "metadata": {},
   "outputs": [],
   "source": [
    "d = Formula(\"d\")\n",
    "circ_formula = Formula(value_name=\"C\", formula=\"pi*d\", sigfigs=4)"
   ]
  },
  {
   "cell_type": "markdown",
   "metadata": {
    "variables": {
     " circ_formula.get_display(oneline=True) ": "<p>$$ C = \\pi d = \\pi 12.1 m = 38.01 m $$</p>\n",
     " d.get_inline() ": "$\\displaystyle d = 12.1 m$"
    }
   },
   "source": [
    "The circumference of a circle with diameter {{ d.get_inline() }} is:\n",
    "\n",
    "{{ circ_formula.get_display(oneline=True) }}"
   ]
  },
  {
   "cell_type": "code",
   "execution_count": null,
   "metadata": {},
   "outputs": [],
   "source": []
  }
 ],
 "metadata": {
  "hide_input": false,
  "kernelspec": {
   "display_name": "Python 3",
   "language": "python",
   "name": "python3"
  },
  "language_info": {
   "codemirror_mode": {
    "name": "ipython",
    "version": 3
   },
   "file_extension": ".py",
   "mimetype": "text/x-python",
   "name": "python",
   "nbconvert_exporter": "python",
   "pygments_lexer": "ipython3",
   "version": "3.7.0"
  }
 },
 "nbformat": 4,
 "nbformat_minor": 2
}
