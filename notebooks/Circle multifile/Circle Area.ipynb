{
 "cells": [
  {
   "cell_type": "code",
   "execution_count": 8,
   "metadata": {},
   "outputs": [],
   "source": [
    "%run header.ipynb"
   ]
  },
  {
   "cell_type": "code",
   "execution_count": 9,
   "metadata": {},
   "outputs": [],
   "source": [
    "from sympy import pi\n",
    "from sympy.physics.units import meter, foot"
   ]
  },
  {
   "cell_type": "code",
   "execution_count": 10,
   "metadata": {},
   "outputs": [],
   "source": [
    "# dictionary that holds all values.\n",
    "# if already defined (such as by another notebook) then don't override\n",
    "if \"values\" not in vars():\n",
    "    values={\"d\": 12.1 * meter}\n",
    "\n",
    "Formula.set_global_values(values)"
   ]
  },
  {
   "cell_type": "code",
   "execution_count": 11,
   "metadata": {},
   "outputs": [],
   "source": [
    "d = Formula(\"d\")\n",
    "area_formula = Formula(value_name=\"A\", formula=\"pi*(d**2/4)\", sigfigs=4)"
   ]
  },
  {
   "cell_type": "markdown",
   "metadata": {
    "variables": {
     " area_formula.get_display(oneline=False) ": "\n        \\begin{align*}\n        A &= \\frac{\\pi d^{2}}{4} \\\\\n            &= \\frac{\\pi \\left(12.1 m\\right)^{2}}{4} \\\\\n            &= 115.0 m^{2}\n        \\end{align*}",
     " d.get_inline() ": "$\\displaystyle d = 12.1 m$"
    }
   },
   "source": [
    "The area of a circle with diameter {{ d.get_inline() }} is:\n",
    "\n",
    "{{ area_formula.get_display(oneline=False) }}"
   ]
  },
  {
   "cell_type": "code",
   "execution_count": null,
   "metadata": {},
   "outputs": [],
   "source": []
  }
 ],
 "metadata": {
  "hide_input": false,
  "kernelspec": {
   "display_name": "Python 3",
   "language": "python",
   "name": "python3"
  },
  "language_info": {
   "codemirror_mode": {
    "name": "ipython",
    "version": 3
   },
   "file_extension": ".py",
   "mimetype": "text/x-python",
   "name": "python",
   "nbconvert_exporter": "python",
   "pygments_lexer": "ipython3",
   "version": "3.7.0"
  }
 },
 "nbformat": 4,
 "nbformat_minor": 2
}
