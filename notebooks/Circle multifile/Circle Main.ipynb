{
 "cells": [
  {
   "cell_type": "code",
   "execution_count": 1,
   "metadata": {},
   "outputs": [],
   "source": [
    "%run header.ipynb\n",
    "\n",
    "from sympy.physics.units import meter, m\n",
    "from tabulate import tabulate"
   ]
  },
  {
   "cell_type": "markdown",
   "metadata": {},
   "source": [
    "# Inputs"
   ]
  },
  {
   "cell_type": "code",
   "execution_count": 2,
   "metadata": {},
   "outputs": [],
   "source": [
    "# Inputs are many circles\n",
    "diameters = [11.1 * m, 22.2 * m, 33.3 * m, 44.4 * m, 55.5 * m]"
   ]
  },
  {
   "cell_type": "code",
   "execution_count": 3,
   "metadata": {},
   "outputs": [],
   "source": [
    "# Setup global values registry.\n",
    "values={\"d\": diameters[0]}\n",
    "\n",
    "Formula.set_global_values(values)"
   ]
  },
  {
   "cell_type": "code",
   "execution_count": 4,
   "metadata": {},
   "outputs": [],
   "source": [
    "diameters_latex = Math(\", \".join(sympy.latex(dia) for dia in diameters))"
   ]
  },
  {
   "cell_type": "markdown",
   "metadata": {
    "variables": {
     " len(diameters) ": "5",
     "diameters_latex": "$\\displaystyle 11.1 m, 22.2 m, 33.3 m, 44.4 m, 55.5 m$"
    }
   },
   "source": [
    "We consider {{ len(diameters) }} circles with diameters {{diameters_latex}}."
   ]
  },
  {
   "cell_type": "markdown",
   "metadata": {},
   "source": [
    "# Area"
   ]
  },
  {
   "cell_type": "code",
   "execution_count": 5,
   "metadata": {},
   "outputs": [],
   "source": [
    "%run \"Circle Area.ipynb\""
   ]
  },
  {
   "cell_type": "markdown",
   "metadata": {
    "variables": {
     " area_formula.get_display(oneline=False) ": "\n        \\begin{align*}\n        A &= \\frac{\\pi d^{2}}{4} \\\\\n            &= \\frac{\\pi \\left(11.1 m\\right)^{2}}{4} \\\\\n            &= 96.77 m^{2}\n        \\end{align*}",
     " d.get_inline() ": "$\\displaystyle d = 11.1 m$"
    }
   },
   "source": [
    "The area of a circle with diameter {{ d.get_inline() }} is:\n",
    "\n",
    "{{ area_formula.get_display(oneline=False) }}"
   ]
  },
  {
   "cell_type": "markdown",
   "metadata": {},
   "source": [
    "# Circumference"
   ]
  },
  {
   "cell_type": "code",
   "execution_count": 6,
   "metadata": {},
   "outputs": [],
   "source": [
    "%run \"Circle Circumference.ipynb\""
   ]
  },
  {
   "cell_type": "markdown",
   "metadata": {
    "variables": {
     " circ_formula.get_display(oneline=True) ": "<p>$$ C = \\pi d = \\pi 11.1 m = 34.87 m $$</p>\n",
     " d.get_inline() ": "$\\displaystyle d = 11.1 m$"
    }
   },
   "source": [
    "The circumference of a circle with diameter {{ d.get_inline() }} is:\n",
    "\n",
    "{{ circ_formula.get_display(oneline=True) }}"
   ]
  },
  {
   "cell_type": "markdown",
   "metadata": {},
   "source": [
    "# Summary"
   ]
  },
  {
   "cell_type": "code",
   "execution_count": 7,
   "metadata": {},
   "outputs": [],
   "source": [
    "# Summarize just the first circle\n",
    "\n",
    "# the area and circumference formulas use the value of `d` from the `values` dict.\n",
    "values[\"d\"] = diameters[0]\n",
    "\n",
    "# Print out just one circle to demonstrate Markdown tables"
   ]
  },
  {
   "cell_type": "markdown",
   "metadata": {
    "variables": {
     "area_formula.get_inlinev()": "$\\displaystyle 96.77 m^{2}$",
     "circ_formula.get_inlinev()": "$\\displaystyle 34.87 m$",
     "d.get_inlinev()": "$\\displaystyle 11.1 m$"
    }
   },
   "source": [
    "First circle:\n",
    "\n",
    "| d                    | Area                           | Circumference                    |\n",
    "| ---:                 |    ----:                       |          ---:                    |\n",
    "| {{d.get_inlinev()}}  | {{area_formula.get_inlinev()}} | {{circ_formula.get_inlinev()}}   |"
   ]
  },
  {
   "cell_type": "code",
   "execution_count": 8,
   "metadata": {},
   "outputs": [],
   "source": [
    "# Summarize all circles to demonstrate a way to loop\n",
    "\n",
    "table_data = [[\"d\", \"Area\", \"Circumference\"]]\n",
    "for dia in diameters:\n",
    "    # formulas use the value of `d` from the `values` dict.\n",
    "    values[\"d\"] = dia\n",
    "    \n",
    "    # populate table\n",
    "    table_data.append([\n",
    "        d.get_inlinev_latex(),\n",
    "        area_formula.get_inlinev_latex(),\n",
    "        circ_formula.get_inlinev_latex(),\n",
    "    ])\n",
    "\n",
    "t = tabulate( # library for pretty-printing tables in many useful formats\n",
    "    table_data, # list of lists table\n",
    "    headers=\"firstrow\", # first element in the list is the table header\n",
    "    tablefmt=\"pipe\", # markdown format that supports alignment\n",
    "    colalign=(\"right\", \"right\", \"right\") # cell aligments\n",
    ")\n",
    "table = Markdown(t)\n",
    "\n",
    "### THIS CURRENTLY ONLY WORKS IN THE NOTEBOOK, DOES NOT YET WORK IN THE PDF!!"
   ]
  },
  {
   "cell_type": "markdown",
   "metadata": {
    "variables": {
     " table ": "<table>\n<thead>\n<tr>\n<th align=\"right\">d</th>\n<th align=\"right\">Area</th>\n<th align=\"right\">Circumference</th>\n</tr>\n</thead>\n<tbody><tr>\n<td align=\"right\">$11.1 m$</td>\n<td align=\"right\">$96.77 m^{2}$</td>\n<td align=\"right\">$34.87 m$</td>\n</tr>\n<tr>\n<td align=\"right\">$22.2 m$</td>\n<td align=\"right\">$387.1 m^{2}$</td>\n<td align=\"right\">$69.74 m$</td>\n</tr>\n<tr>\n<td align=\"right\">$33.3 m$</td>\n<td align=\"right\">$870.9 m^{2}$</td>\n<td align=\"right\">$104.6 m$</td>\n</tr>\n<tr>\n<td align=\"right\">$44.4 m$</td>\n<td align=\"right\">$1548.0 m^{2}$</td>\n<td align=\"right\">$139.5 m$</td>\n</tr>\n<tr>\n<td align=\"right\">$55.5 m$</td>\n<td align=\"right\">$2419.0 m^{2}$</td>\n<td align=\"right\">$174.4 m$</td>\n</tr>\n</tbody></table>\n"
    }
   },
   "source": [
    "All circles:\n",
    "\n",
    "{{ table }}"
   ]
  },
  {
   "cell_type": "code",
   "execution_count": null,
   "metadata": {},
   "outputs": [],
   "source": []
  }
 ],
 "metadata": {
  "hide_input": false,
  "kernelspec": {
   "display_name": "Python 3",
   "language": "python",
   "name": "python3"
  },
  "language_info": {
   "codemirror_mode": {
    "name": "ipython",
    "version": 3
   },
   "file_extension": ".py",
   "mimetype": "text/x-python",
   "name": "python",
   "nbconvert_exporter": "python",
   "pygments_lexer": "ipython3",
   "version": "3.7.0"
  }
 },
 "nbformat": 4,
 "nbformat_minor": 2
}
